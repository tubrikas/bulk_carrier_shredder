{
 "cells": [
  {
   "cell_type": "code",
   "execution_count": null,
   "id": "ed1756ff",
   "metadata": {},
   "outputs": [],
   "source": [
    "from PIL import Image\n",
    "import numpy as np\n",
    "from IPython.display import display\n",
    "import random"
   ]
  },
  {
   "cell_type": "code",
   "execution_count": null,
   "id": "42374f20",
   "metadata": {},
   "outputs": [],
   "source": [
    "image_path = 'bulk-carrier.jpg'\n",
    "num_rows, num_cols = 78, 100\n",
    "\n",
    "image = Image.open(image_path)\n",
    "img_array = np.array(image)\n",
    "\n",
    "def split_into_tiles(img_array, num_rows, num_cols):\n",
    "    \"\"\"Split image array into tiles (2D list).\"\"\"\n",
    "    h, w = img_array.shape[:2]\n",
    "    tile_h = h // num_rows\n",
    "    tile_w = w // num_cols\n",
    "    tiles = []\n",
    "    for i in range(num_rows):\n",
    "        row_tiles = []\n",
    "        for j in range(num_cols):\n",
    "            y0 = i * tile_h\n",
    "            y1 = (i + 1) * tile_h if i < num_rows - 1 else h\n",
    "            x0 = j * tile_w\n",
    "            x1 = (j + 1) * tile_w if j < num_cols - 1 else w\n",
    "            row_tiles.append(img_array[y0:y1, x0:x1])\n",
    "        tiles.append(row_tiles)\n",
    "    return tiles, tile_h, tile_w\n",
    "\n",
    "tiles, tile_h, tile_w = split_into_tiles(img_array, num_rows, num_cols)\n",
    "\n",
    "for i in range(num_rows):\n",
    "    for j in range(num_cols):\n",
    "        if (j % 2) == 1:\n",
    "            tiles[i][j] = np.rot90(tiles[i][j], 2)\n",
    "\n",
    "display(image)\n"
   ]
  },
  {
   "cell_type": "code",
   "execution_count": null,
   "id": "34751325",
   "metadata": {},
   "outputs": [],
   "source": [
    "random_indices = random.sample(\n",
    "    [(i, j) for i in range(num_rows) for j in range(num_cols)],\n",
    "    3\n",
    ")\n",
    "\n",
    "for row, col in random_indices:\n",
    "    tile_img = Image.fromarray(tiles[row][col])\n",
    "    display(tile_img)"
   ]
  },
  {
   "cell_type": "code",
   "execution_count": null,
   "id": "cde181ed",
   "metadata": {},
   "outputs": [],
   "source": [
    "def reconstruct_from_tile_rows(tile_rows):\n",
    "    \"\"\"Reconstruct an image from selected tile rows (2D list of tiles).\"\"\"\n",
    "    return np.concatenate([np.concatenate(row, axis=1) for row in tile_rows], axis=0)\n",
    "\n",
    "odd_tile_rows = [tiles[i] for i in range(0, num_rows, 2)]\n",
    "even_tile_rows = [tiles[i] for i in range(1, num_rows, 2)]\n",
    "\n",
    "odd_img_array = reconstruct_from_tile_rows(odd_tile_rows)\n",
    "even_img_array = reconstruct_from_tile_rows(even_tile_rows)\n",
    "\n",
    "odd_img = Image.fromarray(odd_img_array)\n",
    "even_img = Image.fromarray(even_img_array)\n",
    "\n",
    "display(odd_img)\n",
    "display(even_img)"
   ]
  },
  {
   "cell_type": "code",
   "execution_count": null,
   "id": "12f4e2d6",
   "metadata": {},
   "outputs": [],
   "source": [
    "def shred_image_by_cols(img_array, tile_w):\n",
    "    \"\"\"Shred an image array by odd/even columns of tile_w pixels each.\"\"\"\n",
    "    h, w = img_array.shape[:2]\n",
    "    num_cols = w // tile_w\n",
    "\n",
    "    cols = [img_array[:, j*tile_w:(j+1)*tile_w] for j in range(num_cols)]\n",
    "\n",
    "    odd_cols = [cols[j] for j in range(0, num_cols, 2)]\n",
    "    even_cols = [cols[j] for j in range(1, num_cols, 2)]\n",
    "\n",
    "    odd_img = np.concatenate(odd_cols, axis=1)\n",
    "    even_img = np.concatenate(even_cols, axis=1)\n",
    "    return odd_img, even_img\n",
    "\n",
    "odd_bycol_odd, odd_bycol_even = shred_image_by_cols(odd_img_array, tile_w)\n",
    "even_bycol_odd, even_bycol_even = shred_image_by_cols(even_img_array, tile_w)\n",
    "\n",
    "odd_odd_2_img = Image.fromarray(odd_bycol_odd)\n",
    "odd_even_2_img = Image.fromarray(odd_bycol_even)\n",
    "even_odd_2_img = Image.fromarray(even_bycol_odd)\n",
    "even_even_2_img = Image.fromarray(even_bycol_even)\n",
    "\n",
    "display(odd_odd_2_img)\n",
    "display(odd_even_2_img)\n",
    "display(even_odd_2_img)\n",
    "display(even_even_2_img)\n"
   ]
  },
  {
   "cell_type": "code",
   "execution_count": null,
   "id": "d99292dd",
   "metadata": {},
   "outputs": [],
   "source": [
    "standard_width = image.width\n",
    "\n",
    "def resize_to_width(img, width):\n",
    "    if img.width == width:\n",
    "        return img\n",
    "    new_height = int(img.height * width / img.width)\n",
    "    return img.resize((width, new_height), Image.LANCZOS)\n",
    "\n",
    "original_img = resize_to_width(image, standard_width)\n",
    "odd_img = resize_to_width(odd_img, standard_width // 2)\n",
    "even_img = resize_to_width(even_img, standard_width // 2)\n",
    "odd_odd_img = resize_to_width(odd_odd_2_img, standard_width // 4)\n",
    "odd_even_img = resize_to_width(odd_even_2_img, standard_width // 4)\n",
    "even_odd_img = resize_to_width(even_odd_2_img, standard_width // 4)\n",
    "even_even_img = resize_to_width(even_even_2_img, standard_width // 4)\n"
   ]
  },
  {
   "cell_type": "code",
   "execution_count": null,
   "id": "15254a2f",
   "metadata": {},
   "outputs": [],
   "source": [
    "top_row = original_img\n",
    "\n",
    "row2_height = max(odd_img.height, even_img.height)\n",
    "row2 = Image.new('RGB', (standard_width, row2_height))\n",
    "row2.paste(odd_img, (0, 0))\n",
    "row2.paste(even_img, (odd_img.width, 0))\n",
    "\n",
    "row3_height = max(odd_odd_img.height, odd_even_img.height, even_odd_img.height, even_even_img.height)\n",
    "row3 = Image.new('RGB', (standard_width, row3_height))\n",
    "row3.paste(odd_odd_img, (0, 0))\n",
    "row3.paste(odd_even_img, (odd_odd_img.width, 0))\n",
    "row3.paste(even_odd_img, (odd_odd_img.width + odd_even_img.width, 0))\n",
    "row3.paste(even_even_img, (odd_odd_img.width + odd_even_img.width + even_odd_img.width, 0))\n",
    "\n",
    "total_height = top_row.height + row2.height + row3.height\n",
    "collage = Image.new('RGB', (standard_width, total_height), color='white')\n",
    "y = 0\n",
    "collage.paste(top_row, (0, y))\n",
    "y += top_row.height\n",
    "collage.paste(row2, (0, y))\n",
    "y += row2.height\n",
    "collage.paste(row3, (0, y))\n",
    "\n",
    "display(collage)"
   ]
  },
  {
   "cell_type": "code",
   "execution_count": null,
   "id": "c8438398",
   "metadata": {},
   "outputs": [],
   "source": [
    "collage.save('collage.jpg')"
   ]
  }
 ],
 "metadata": {
  "kernelspec": {
   "display_name": "base",
   "language": "python",
   "name": "python3"
  },
  "language_info": {
   "codemirror_mode": {
    "name": "ipython",
    "version": 3
   },
   "file_extension": ".py",
   "mimetype": "text/x-python",
   "name": "python",
   "nbconvert_exporter": "python",
   "pygments_lexer": "ipython3",
   "version": "3.13.2"
  }
 },
 "nbformat": 4,
 "nbformat_minor": 5
}
